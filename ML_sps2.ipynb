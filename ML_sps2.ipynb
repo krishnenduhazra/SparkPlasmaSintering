{
 "cells": [
  {
   "cell_type": "code",
   "execution_count": 2,
   "id": "64eb7594",
   "metadata": {},
   "outputs": [],
   "source": [
    "import pandas as pd\n",
    "import numpy as np"
   ]
  },
  {
   "cell_type": "code",
   "execution_count": 23,
   "id": "3aefe813",
   "metadata": {},
   "outputs": [],
   "source": [
    "df=pd.read_csv('sps2.csv')"
   ]
  },
  {
   "cell_type": "code",
   "execution_count": 50,
   "id": "ee49e713",
   "metadata": {},
   "outputs": [],
   "source": [
    "for i in sps.columns:\n",
    "    m=round(sps[i].mean(),3)\n",
    "    sps[i]=sps[i].fillna(m)"
   ]
  },
  {
   "cell_type": "code",
   "execution_count": 54,
   "id": "79e13ada",
   "metadata": {
    "scrolled": true
   },
   "outputs": [
    {
     "name": "stdout",
     "output_type": "stream",
     "text": [
      "0     93.70\n",
      "1     95.20\n",
      "2     98.20\n",
      "3     99.30\n",
      "4     99.80\n",
      "      ...  \n",
      "95    59.70\n",
      "96    56.42\n",
      "97    84.38\n",
      "98    39.29\n",
      "99    45.59\n",
      "Name: RD, Length: 100, dtype: float64\n"
     ]
    }
   ],
   "source": [
    "sps['RD']=round(sps['RD'],2)\n",
    "print(sps['RD'])"
   ]
  },
  {
   "cell_type": "code",
   "execution_count": 21,
   "id": "155dcf67",
   "metadata": {},
   "outputs": [],
   "source": [
    "df['Hardness']=round(df['Hardness'],3)"
   ]
  },
  {
   "cell_type": "code",
   "execution_count": 22,
   "id": "5b01d7be",
   "metadata": {},
   "outputs": [],
   "source": [
    "df.to_csv('sps2.csv', index=None,header=True)"
   ]
  },
  {
   "cell_type": "code",
   "execution_count": 24,
   "id": "7fd87c3e",
   "metadata": {},
   "outputs": [
    {
     "data": {
      "text/plain": [
       "Index(['Temperature', 'RD', 'Grain_size', 'Hardness', 'FT'], dtype='object')"
      ]
     },
     "execution_count": 24,
     "metadata": {},
     "output_type": "execute_result"
    }
   ],
   "source": [
    "df.columns"
   ]
  },
  {
   "cell_type": "code",
   "execution_count": 75,
   "id": "5e96b589",
   "metadata": {},
   "outputs": [],
   "source": [
    "X=df.drop(['Hardness','FT'],axis=1).values\n",
    "y=df.drop(['Temperature', 'RD', 'Grain_size'],axis=1).values"
   ]
  },
  {
   "cell_type": "code",
   "execution_count": 76,
   "id": "13b87a65",
   "metadata": {},
   "outputs": [],
   "source": [
    "from sklearn.model_selection import train_test_split\n",
    "X_train, X_test, y_train, y_test = train_test_split(X, y, test_size=0.2, random_state=0)"
   ]
  },
  {
   "cell_type": "code",
   "execution_count": 77,
   "id": "e0097fdc",
   "metadata": {},
   "outputs": [
    {
     "data": {
      "text/plain": [
       "LinearRegression()"
      ]
     },
     "execution_count": 77,
     "metadata": {},
     "output_type": "execute_result"
    }
   ],
   "source": [
    "from sklearn.linear_model import LinearRegression\n",
    "model=LinearRegression()\n",
    "model.fit(X_train,y_train)\n"
   ]
  },
  {
   "cell_type": "code",
   "execution_count": 78,
   "id": "1bc85d59",
   "metadata": {},
   "outputs": [
    {
     "name": "stdout",
     "output_type": "stream",
     "text": [
      "[[17.98084284  5.91786828]\n",
      " [19.33081522  5.11396272]]\n"
     ]
    }
   ],
   "source": [
    "out=model.predict([[1403 ,99.6, 0.3],[1860 ,100 ,0.1]])\n",
    "print(out)"
   ]
  },
  {
   "cell_type": "code",
   "execution_count": 79,
   "id": "fcff387b",
   "metadata": {},
   "outputs": [
    {
     "name": "stdout",
     "output_type": "stream",
     "text": [
      "-0.45391188578501734\n"
     ]
    }
   ],
   "source": [
    "from sklearn.metrics import r2_score\n",
    "y_pred=model.predict(X_test)\n",
    "accuracy=r2_score(y_test, y_pred)\n",
    "print(accuracy)"
   ]
  },
  {
   "cell_type": "code",
   "execution_count": 81,
   "id": "cc0813ae",
   "metadata": {},
   "outputs": [
    {
     "data": {
      "text/plain": [
       "Text(0.5, 1.0, 'Hardness and FT')"
      ]
     },
     "execution_count": 81,
     "metadata": {},
     "output_type": "execute_result"
    },
    {
     "data": {
      "image/png": "[encoded data removed]",
      "text/plain": [
       "<Figure size 1080x720 with 1 Axes>"
      ]
     },
     "metadata": {
      "needs_background": "light"
     },
     "output_type": "display_data"
    }
   ],
   "source": [
    "import matplotlib.pyplot as plt\n",
    "plt.figure(figsize=(15,10))\n",
    "plt.scatter(y_test, y_pred)\n",
    "plt.xlabel('Practical')\n",
    "plt.ylabel('Predction')\n",
    "plt.title('Hardness and FT')\n"
   ]
  }
 ],
 "metadata": {
  "kernelspec": {
   "display_name": "Python 3",
   "language": "python",
   "name": "python3"
  },
  "language_info": {
   "codemirror_mode": {
    "name": "ipython",
    "version": 3
   },
   "file_extension": ".py",
   "mimetype": "text/x-python",
   "name": "python",
   "nbconvert_exporter": "python",
   "pygments_lexer": "ipython3",
   "version": "3.8.8"
  }
 },
 "nbformat": 4,
 "nbformat_minor": 5
}
