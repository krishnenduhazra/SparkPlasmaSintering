{
 "cells": [
  {
   "cell_type": "markdown",
   "id": "54a76c8d",
   "metadata": {},
   "source": [
    "### Import Dependency"
   ]
  },
  {
   "cell_type": "code",
   "execution_count": 1,
   "id": "877e997e",
   "metadata": {},
   "outputs": [],
   "source": [
    "import pandas as pd\n",
    "import numpy as np\n",
    "from sklearn.metrics import r2_score\n",
    "from sklearn.metrics import mean_squared_error, mean_absolute_error\n",
    "from sklearn.preprocessing import StandardScaler\n",
    "from sklearn.model_selection import train_test_split\n",
    "from sklearn.ensemble import RandomForestRegressor\n",
    "import matplotlib.pyplot as plt"
   ]
  },
  {
   "cell_type": "markdown",
   "id": "1af47c9a",
   "metadata": {},
   "source": [
    "### Data Import"
   ]
  },
  {
   "cell_type": "code",
   "execution_count": 2,
   "id": "50298f6c",
   "metadata": {},
   "outputs": [
    {
     "name": "stdout",
     "output_type": "stream",
     "text": [
      "    Temperature    RD  Grain_size  Hardness     FT        RH\n",
      "0          1175  93.7       0.800    15.310  5.192  0.729048\n",
      "1          1200  95.2       0.900    18.500  3.700  0.880952\n",
      "2          1225  98.2       1.000    20.600  4.500  0.980952\n",
      "3          1250  99.3       1.600    21.000  3.600  1.000000\n",
      "4          1300  99.8       4.400    19.200  3.200  0.914286\n",
      "..          ...   ...         ...       ...    ...       ...\n",
      "81         1700  99.0       3.268    12.309  2.800  1.414828\n",
      "82         1700  97.5       3.268    12.191  3.400  1.401264\n",
      "83         1700  95.5       3.268    11.329  4.000  1.302184\n",
      "84         1700  98.0       3.268    12.230  5.192  1.405747\n",
      "85         1700  96.9       3.268    11.799  5.192  1.356207\n",
      "\n",
      "[86 rows x 6 columns]\n"
     ]
    },
    {
     "data": {
      "text/plain": [
       "Index(['Temperature', 'RD', 'Grain_size', 'Hardness', 'FT', 'RH'], dtype='object')"
      ]
     },
     "execution_count": 2,
     "metadata": {},
     "output_type": "execute_result"
    }
   ],
   "source": [
    "df=pd.read_csv('sps3.csv')\n",
    "print(df)\n",
    "df.columns"
   ]
  },
  {
   "cell_type": "code",
   "execution_count": 3,
   "id": "87072bf0",
   "metadata": {},
   "outputs": [],
   "source": [
    "X=df.drop(['Hardness', 'FT','RH'],axis=1).values\n",
    "y=df['Hardness'].values"
   ]
  },
  {
   "cell_type": "markdown",
   "id": "130120c1",
   "metadata": {},
   "source": [
    "### Scaling and Splitting"
   ]
  },
  {
   "cell_type": "code",
   "execution_count": 11,
   "id": "84055698",
   "metadata": {},
   "outputs": [],
   "source": [
    "scaler = StandardScaler()\n",
    "scaler.fit(X)  \n",
    "X = scaler.transform(X)\n",
    "X_train, X_test, y_train, y_test = train_test_split(X, y, test_size=0.2, random_state=0)"
   ]
  },
  {
   "cell_type": "markdown",
   "id": "f2d06dc6",
   "metadata": {},
   "source": [
    "## Model training"
   ]
  },
  {
   "cell_type": "code",
   "execution_count": 14,
   "id": "087f87f6",
   "metadata": {},
   "outputs": [],
   "source": [
    "regr = RandomForestRegressor(n_estimators=18, max_depth=10, random_state=0)\n",
    "regr.fit(X_train,y_train)\n",
    "y_pred=regr.predict(X_test)"
   ]
  },
  {
   "cell_type": "markdown",
   "id": "7604b044",
   "metadata": {},
   "source": [
    "### Accuracy, MSE & MAE"
   ]
  },
  {
   "cell_type": "code",
   "execution_count": 15,
   "id": "0277a1e6",
   "metadata": {},
   "outputs": [
    {
     "name": "stdout",
     "output_type": "stream",
     "text": [
      "0.8323441364204641 2.4854805550725145 1.2076431666755747\n"
     ]
    }
   ],
   "source": [
    "accuracy=r2_score(y_test, y_pred)\n",
    "mse=mean_squared_error(y_test, y_pred)\n",
    "mae = mean_absolute_error(y_test, y_pred)\n",
    "print(accuracy,mse,mae)"
   ]
  },
  {
   "cell_type": "markdown",
   "id": "ec0f9dac",
   "metadata": {},
   "source": [
    "### Feature Importance"
   ]
  },
  {
   "cell_type": "code",
   "execution_count": 18,
   "id": "11ffe070",
   "metadata": {},
   "outputs": [
    {
     "name": "stdout",
     "output_type": "stream",
     "text": [
      "Temperature    0.430108\n",
      "Grain_size     0.292061\n",
      "RD             0.277830\n",
      "dtype: float64\n"
     ]
    }
   ],
   "source": [
    "feature_list = list(['Temperature', 'RD', 'Grain_size'])\n",
    "feature_imp = pd.Series(regr.feature_importances_, index=feature_list).sort_values(ascending=False)\n",
    "print(feature_imp)"
   ]
  },
  {
   "cell_type": "markdown",
   "id": "9c9f27bc",
   "metadata": {},
   "source": [
    "### Plots"
   ]
  },
  {
   "cell_type": "code",
   "execution_count": 16,
   "id": "388ffda7",
   "metadata": {},
   "outputs": [
    {
     "data": {
      "text/plain": [
       "Text(0.5, 1.0, 'Hardness and FT')"
      ]
     },
     "execution_count": 16,
     "metadata": {},
     "output_type": "execute_result"
    },
    {
     "data": {
      "image/png": "[encoded data removed]",
      "text/plain": [
       "<Figure size 720x432 with 1 Axes>"
      ]
     },
     "metadata": {
      "needs_background": "light"
     },
     "output_type": "display_data"
    }
   ],
   "source": [
    "plt.figure(figsize=(10,6))\n",
    "plt.scatter( y_test, y_pred)\n",
    "plt.xlabel('Practical')\n",
    "plt.ylabel('Predction')\n",
    "plt.title('Hardness and FT')"
   ]
  },
  {
   "cell_type": "code",
   "execution_count": 17,
   "id": "39436919",
   "metadata": {},
   "outputs": [
    {
     "data": {
      "text/plain": [
       "<matplotlib.collections.PathCollection at 0x27ae77624c0>"
      ]
     },
     "execution_count": 17,
     "metadata": {},
     "output_type": "execute_result"
    },
    {
     "data": {
      "image/png": "[encoded data removed]",
      "text/plain": [
       "<Figure size 864x432 with 1 Axes>"
      ]
     },
     "metadata": {
      "needs_background": "light"
     },
     "output_type": "display_data"
    }
   ],
   "source": [
    "temp=[row[1] for row in X_test]\n",
    "plt.figure(figsize=(12,6))\n",
    "plt.scatter(temp , y_pred)\n",
    "plt.scatter(temp , y_test)"
   ]
  }
 ],
 "metadata": {
  "kernelspec": {
   "display_name": "Python 3",
   "language": "python",
   "name": "python3"
  },
  "language_info": {
   "codemirror_mode": {
    "name": "ipython",
    "version": 3
   },
   "file_extension": ".py",
   "mimetype": "text/x-python",
   "name": "python",
   "nbconvert_exporter": "python",
   "pygments_lexer": "ipython3",
   "version": "3.8.8"
  }
 },
 "nbformat": 4,
 "nbformat_minor": 5
}
