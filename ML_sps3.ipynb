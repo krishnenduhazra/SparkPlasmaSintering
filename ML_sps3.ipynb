{
 "cells": [
  {
   "cell_type": "code",
   "execution_count": 1,
   "id": "591b33e1",
   "metadata": {},
   "outputs": [],
   "source": [
    "import pandas as pd\n",
    "import numpy as np"
   ]
  },
  {
   "cell_type": "code",
   "execution_count": 2,
   "id": "93ee54db",
   "metadata": {},
   "outputs": [],
   "source": [
    "df=pd.read_csv('sps3.csv')"
   ]
  },
  {
   "cell_type": "code",
   "execution_count": 3,
   "id": "6cff53e4",
   "metadata": {},
   "outputs": [
    {
     "name": "stdout",
     "output_type": "stream",
     "text": [
      "    Temperature    RD  Grain_size  Hardness     FT        RH\n",
      "0          1175  93.7       0.800    15.310  5.192  0.729048\n",
      "1          1200  95.2       0.900    18.500  3.700  0.880952\n",
      "2          1225  98.2       1.000    20.600  4.500  0.980952\n",
      "3          1250  99.3       1.600    21.000  3.600  1.000000\n",
      "4          1300  99.8       4.400    19.200  3.200  0.914286\n",
      "..          ...   ...         ...       ...    ...       ...\n",
      "81         1700  99.0       3.268    12.309  2.800  1.414828\n",
      "82         1700  97.5       3.268    12.191  3.400  1.401264\n",
      "83         1700  95.5       3.268    11.329  4.000  1.302184\n",
      "84         1700  98.0       3.268    12.230  5.192  1.405747\n",
      "85         1700  96.9       3.268    11.799  5.192  1.356207\n",
      "\n",
      "[86 rows x 6 columns]\n"
     ]
    }
   ],
   "source": [
    "print(df)"
   ]
  },
  {
   "cell_type": "code",
   "execution_count": 4,
   "id": "71ff43f6",
   "metadata": {},
   "outputs": [
    {
     "data": {
      "text/plain": [
       "Index(['Temperature', 'RD', 'Grain_size', 'Hardness', 'FT', 'RH'], dtype='object')"
      ]
     },
     "execution_count": 4,
     "metadata": {},
     "output_type": "execute_result"
    }
   ],
   "source": [
    "df.columns"
   ]
  },
  {
   "cell_type": "code",
   "execution_count": 25,
   "id": "4bbc2f2d",
   "metadata": {},
   "outputs": [],
   "source": [
    "X=df.drop(['Hardness', 'FT','RH'],axis=1).values\n",
    "y=df['Hardness'].values\n",
    "#y=y.reshape(-1,1)\n",
    "#y=df.drop(['Temperature', 'RD', 'Grain_size','Hardness'],axis=1).values"
   ]
  },
  {
   "cell_type": "markdown",
   "id": "cc9a90de",
   "metadata": {},
   "source": [
    "# Split"
   ]
  },
  {
   "cell_type": "code",
   "execution_count": 26,
   "id": "500ca4df",
   "metadata": {},
   "outputs": [],
   "source": [
    "from sklearn.preprocessing import StandardScaler  \n",
    "scaler = StandardScaler()\n",
    "scaler.fit(X)  \n",
    "X = scaler.transform(X)"
   ]
  },
  {
   "cell_type": "code",
   "execution_count": 27,
   "id": "3b32719a",
   "metadata": {},
   "outputs": [],
   "source": [
    "from sklearn.model_selection import train_test_split\n",
    "X_train, X_test, y_train, y_test = train_test_split(X, y, test_size=0.2, random_state=0)"
   ]
  },
  {
   "cell_type": "markdown",
   "id": "5611124a",
   "metadata": {},
   "source": [
    "# Models"
   ]
  },
  {
   "cell_type": "code",
   "execution_count": 28,
   "id": "a6d576e0",
   "metadata": {},
   "outputs": [
    {
     "name": "stdout",
     "output_type": "stream",
     "text": [
      "0.08605641373959372\n"
     ]
    }
   ],
   "source": [
    "from sklearn.linear_model import LinearRegression\n",
    "model=LinearRegression()\n",
    "model.fit(X_train,y_train)\n",
    "#model.fit(X,y)\n",
    "y_pred=model.predict(X_test)\n",
    "accuracy=r2_score(y_test, y_pred)\n",
    "print(accuracy)"
   ]
  },
  {
   "cell_type": "code",
   "execution_count": 29,
   "id": "7f0c1f54",
   "metadata": {},
   "outputs": [
    {
     "name": "stdout",
     "output_type": "stream",
     "text": [
      "0.07647272250098391\n"
     ]
    }
   ],
   "source": [
    "from sklearn import linear_model\n",
    "reg = linear_model.BayesianRidge()\n",
    "reg.fit(X_train,y_train)\n",
    "y_pred=reg.predict(X_test)\n",
    "accuracy=r2_score(y_test, y_pred)\n",
    "print(accuracy)"
   ]
  },
  {
   "cell_type": "code",
   "execution_count": 30,
   "id": "c80403c5",
   "metadata": {},
   "outputs": [
    {
     "name": "stdout",
     "output_type": "stream",
     "text": [
      "0.45515196095684296\n"
     ]
    }
   ],
   "source": [
    "from sklearn import svm\n",
    "regr = svm.SVR()\n",
    "regr.fit(X_train,y_train)\n",
    "y_pred=regr.predict(X_test)\n",
    "accuracy=r2_score(y_test, y_pred)\n",
    "print(accuracy)"
   ]
  },
  {
   "cell_type": "code",
   "execution_count": 69,
   "id": "e67823f1",
   "metadata": {},
   "outputs": [
    {
     "name": "stdout",
     "output_type": "stream",
     "text": [
      "0.5660697320739481\n"
     ]
    }
   ],
   "source": [
    "from sklearn import tree\n",
    "clf = tree.DecisionTreeRegressor()\n",
    "clf.fit(X_train,y_train)\n",
    "y_pred=clf.predict(X_test)\n",
    "accuracy=r2_score(y_test, y_pred)\n",
    "print(accuracy)"
   ]
  },
  {
   "cell_type": "code",
   "execution_count": 118,
   "id": "8b7b3f5c",
   "metadata": {},
   "outputs": [
    {
     "name": "stdout",
     "output_type": "stream",
     "text": [
      "0.5613177570082093\n"
     ]
    }
   ],
   "source": [
    "from sklearn.tree import DecisionTreeRegressor\n",
    "clff = tree.DecisionTreeRegressor(max_depth=10)\n",
    "clff.fit(X_train,y_train)\n",
    "y_pred=clff.predict(X_test)\n",
    "accuracy=r2_score(y_test, y_pred)\n",
    "print(accuracy)"
   ]
  },
  {
   "cell_type": "code",
   "execution_count": 90,
   "id": "7b8e4fea",
   "metadata": {},
   "outputs": [
    {
     "name": "stdout",
     "output_type": "stream",
     "text": [
      "0.6630923439511485\n"
     ]
    }
   ],
   "source": [
    "from sklearn.neural_network import MLPRegressor\n",
    "nn = MLPRegressor(hidden_layer_sizes=70, \n",
    "                  activation='relu', \n",
    "                  solver='adam', \n",
    "                  alpha=0.001, \n",
    "                  batch_size='auto', \n",
    "                  learning_rate='constant', \n",
    "                  learning_rate_init=1, \n",
    "                  power_t=0.5, \n",
    "                  max_iter=500, \n",
    "                  shuffle=True, \n",
    "                  random_state=None, \n",
    "                  tol=0.001, \n",
    "                  verbose=False, \n",
    "                  warm_start=False, \n",
    "                  momentum=0.9, \n",
    "                  nesterovs_momentum=True, \n",
    "                  early_stopping=False, \n",
    "                  validation_fraction=0.1, \n",
    "                  beta_1=0.9, \n",
    "                  beta_2=0.999, \n",
    "                  epsilon=1e-08, \n",
    "                  n_iter_no_change=10, \n",
    "                  max_fun=15000)\n",
    "nn.fit(X_train,y_train)\n",
    "y_pred=nn.predict(X_test)\n",
    "accuracy=r2_score(y_test, y_pred)\n",
    "print(accuracy)"
   ]
  },
  {
   "cell_type": "markdown",
   "id": "d8a6131e",
   "metadata": {},
   "source": [
    "# Accuracy"
   ]
  },
  {
   "cell_type": "code",
   "execution_count": 24,
   "id": "b56d06c9",
   "metadata": {
    "scrolled": true
   },
   "outputs": [
    {
     "name": "stdout",
     "output_type": "stream",
     "text": [
      "0.08605641373959372\n"
     ]
    }
   ],
   "source": [
    "from sklearn.metrics import r2_score\n",
    "y_pred=model.predict(X_test)\n",
    "accuracy=r2_score(y_test, y_pred)\n",
    "print(accuracy)"
   ]
  },
  {
   "cell_type": "markdown",
   "id": "a56e2944",
   "metadata": {},
   "source": [
    "# Plot"
   ]
  },
  {
   "cell_type": "code",
   "execution_count": 103,
   "id": "5c55b45a",
   "metadata": {},
   "outputs": [],
   "source": [
    "y_pred=nn.predict(X_test)"
   ]
  },
  {
   "cell_type": "code",
   "execution_count": 101,
   "id": "ec48a2ff",
   "metadata": {
    "scrolled": false
   },
   "outputs": [
    {
     "data": {
      "text/plain": [
       "Text(0.5, 1.0, 'Hardness and FT')"
      ]
     },
     "execution_count": 101,
     "metadata": {},
     "output_type": "execute_result"
    },
    {
     "data": {
      "image/png": "[encoded data removed]",
      "text/plain": [
       "<Figure size 432x288 with 1 Axes>"
      ]
     },
     "metadata": {
      "needs_background": "light"
     },
     "output_type": "display_data"
    }
   ],
   "source": [
    "import matplotlib.pyplot as plt\n",
    "plt.figure(figsize=(6,4))\n",
    "plt.scatter( y_test, y_pred)\n",
    "plt.xlabel('Practical')\n",
    "plt.ylabel('Predction')\n",
    "plt.title('Hardness and FT')\n"
   ]
  },
  {
   "cell_type": "code",
   "execution_count": 67,
   "id": "475adeaa",
   "metadata": {},
   "outputs": [],
   "source": [
    "z=[]\n",
    "for i in X_test:\n",
    "    z.append(i[0]) "
   ]
  },
  {
   "cell_type": "code",
   "execution_count": 104,
   "id": "501ff9d2",
   "metadata": {},
   "outputs": [
    {
     "name": "stdout",
     "output_type": "stream",
     "text": [
      "[20.6   15.31  20.3   19.3    5.027 15.31  18.6   19.7   14.435 11.799\n",
      " 16.6   21.5   18.3   13.435 16.    15.31  15.31  19.9  ] \n",
      " [17.57692389 18.19746179 22.02654777 18.82972612  5.86263519 17.20402394\n",
      " 17.17130526 18.80668052 20.53105815 13.64189645 14.77718317 19.60110637\n",
      " 20.42729825 14.93457048 15.42359993 17.17126417 16.70384486 18.45096066]\n"
     ]
    }
   ],
   "source": [
    "print(y_test,'\\n',y_pred)"
   ]
  }
 ],
 "metadata": {
  "kernelspec": {
   "display_name": "Python 3",
   "language": "python",
   "name": "python3"
  },
  "language_info": {
   "codemirror_mode": {
    "name": "ipython",
    "version": 3
   },
   "file_extension": ".py",
   "mimetype": "text/x-python",
   "name": "python",
   "nbconvert_exporter": "python",
   "pygments_lexer": "ipython3",
   "version": "3.8.8"
  }
 },
 "nbformat": 4,
 "nbformat_minor": 5
}
